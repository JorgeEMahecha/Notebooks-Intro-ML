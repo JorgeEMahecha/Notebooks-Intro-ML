{
 "cells": [
  {
   "cell_type": "code",
   "execution_count": null,
   "metadata": {
    "id": "G58I0Xe-YVZb"
   },
   "outputs": [],
   "source": []
  },
  {
   "cell_type": "code",
   "execution_count": 3,
   "metadata": {
    "colab": {
     "base_uri": "https://localhost:8080/",
     "height": 409
    },
    "id": "b9IvErArujR_",
    "outputId": "1720badd-73d7-4670-96e4-4cddd357722f"
   },
   "outputs": [
    {
     "data": {
      "text/html": [
       "<div>\n",
       "<style scoped>\n",
       "    .dataframe tbody tr th:only-of-type {\n",
       "        vertical-align: middle;\n",
       "    }\n",
       "\n",
       "    .dataframe tbody tr th {\n",
       "        vertical-align: top;\n",
       "    }\n",
       "\n",
       "    .dataframe thead th {\n",
       "        text-align: right;\n",
       "    }\n",
       "</style>\n",
       "<table border=\"1\" class=\"dataframe\">\n",
       "  <thead>\n",
       "    <tr style=\"text-align: right;\">\n",
       "      <th></th>\n",
       "      <th>Sepal.Length</th>\n",
       "      <th>Sepal.Width</th>\n",
       "      <th>Petal.Length</th>\n",
       "      <th>Petal.Width</th>\n",
       "      <th>Species</th>\n",
       "    </tr>\n",
       "  </thead>\n",
       "  <tbody>\n",
       "    <tr>\n",
       "      <th>0</th>\n",
       "      <td>5.1</td>\n",
       "      <td>3.5</td>\n",
       "      <td>1.4</td>\n",
       "      <td>0.2</td>\n",
       "      <td>setosa</td>\n",
       "    </tr>\n",
       "    <tr>\n",
       "      <th>1</th>\n",
       "      <td>4.9</td>\n",
       "      <td>3.0</td>\n",
       "      <td>1.4</td>\n",
       "      <td>0.2</td>\n",
       "      <td>setosa</td>\n",
       "    </tr>\n",
       "    <tr>\n",
       "      <th>2</th>\n",
       "      <td>4.7</td>\n",
       "      <td>3.2</td>\n",
       "      <td>1.3</td>\n",
       "      <td>0.2</td>\n",
       "      <td>setosa</td>\n",
       "    </tr>\n",
       "    <tr>\n",
       "      <th>3</th>\n",
       "      <td>4.6</td>\n",
       "      <td>3.1</td>\n",
       "      <td>1.5</td>\n",
       "      <td>0.2</td>\n",
       "      <td>setosa</td>\n",
       "    </tr>\n",
       "    <tr>\n",
       "      <th>4</th>\n",
       "      <td>5.0</td>\n",
       "      <td>3.6</td>\n",
       "      <td>1.4</td>\n",
       "      <td>0.2</td>\n",
       "      <td>setosa</td>\n",
       "    </tr>\n",
       "  </tbody>\n",
       "</table>\n",
       "</div>"
      ],
      "text/plain": [
       "   Sepal.Length  Sepal.Width  Petal.Length  Petal.Width Species\n",
       "0           5.1          3.5           1.4          0.2  setosa\n",
       "1           4.9          3.0           1.4          0.2  setosa\n",
       "2           4.7          3.2           1.3          0.2  setosa\n",
       "3           4.6          3.1           1.5          0.2  setosa\n",
       "4           5.0          3.6           1.4          0.2  setosa"
      ]
     },
     "execution_count": 3,
     "metadata": {},
     "output_type": "execute_result"
    }
   ],
   "source": [
    "### https://dev.to/benprax/building-our-first-machine-learning-model-5dig\n",
    "\n",
    "import pandas as pd\n",
    "dataset = pd.read_csv(\"iris.csv\")\n",
    "# let’s see a sample of our data\n",
    "dataset.head()\n"
   ]
  },
  {
   "cell_type": "code",
   "execution_count": 4,
   "metadata": {
    "id": "Hhn4voBKlQuI"
   },
   "outputs": [],
   "source": [
    "y = dataset[\"Species\"]\n",
    "\n",
    "features = [\"Sepal.Length\", \"Sepal.Width\", \"Petal.Length\", \"Petal.Width\"]\n",
    "X = dataset[features]\n"
   ]
  },
  {
   "cell_type": "code",
   "execution_count": null,
   "metadata": {
    "id": "Cj_WsMvZqcgO"
   },
   "outputs": [],
   "source": [
    "from sklearn.model_selection import train_test_split\n",
    "\n",
    "#splitting our dataset for training and validation\n",
    "#random_state to shuffle our data\n",
    "train_X, val_X, train_y, val_y = train_test_split(X, y, random_state=1)"
   ]
  },
  {
   "cell_type": "code",
   "execution_count": null,
   "metadata": {
    "id": "J-GPooVKqcgO"
   },
   "outputs": [],
   "source": [
    "train_y = pd.get_dummies(train_y)\n",
    "val_y = pd.get_dummies(val_y)\n"
   ]
  },
  {
   "cell_type": "code",
   "execution_count": null,
   "metadata": {
    "id": "fGkMmGEXqcgP"
   },
   "outputs": [],
   "source": [
    "from sklearn.ensemble import RandomForestClassifier\n",
    "\n",
    "random_forest = RandomForestClassifier(random_state=1)\n",
    "random_forest.fit(train_X, train_y)\n"
   ]
  },
  {
   "cell_type": "code",
   "execution_count": null,
   "metadata": {
    "id": "BATYSqHtqcgP"
   },
   "outputs": [],
   "source": [
    "from sklearn.metrics import mean_absolute_error\n",
    "\n",
    "preds = random_forest.predict(val_X)\n",
    "mae = mean_absolute_error(val_y, preds)\n",
    "\n",
    "print(\"Mean absolute error is: {:,.5f}\".format(mae * 100))\n",
    "print(random_forest.score(val_X, val_y) * 100)\n"
   ]
  },
  {
   "cell_type": "code",
   "execution_count": null,
   "metadata": {
    "id": "4qnjqeCgqcgP"
   },
   "outputs": [],
   "source": [
    "preds = random_forest.predict([[2.0, 1.9, 3.7, 2]])\n",
    "print(preds)\n"
   ]
  },
  {
   "cell_type": "code",
   "execution_count": null,
   "metadata": {
    "id": "phUwF_xSqcgP"
   },
   "outputs": [],
   "source": [
    "preds = random_forest.predict([[1.0, 1.0, 1.0, 1.0]])\n",
    "print(preds)"
   ]
  },
  {
   "cell_type": "code",
   "execution_count": null,
   "metadata": {
    "id": "YHjp_AjlqcgP"
   },
   "outputs": [],
   "source": [
    "print(y)"
   ]
  },
  {
   "cell_type": "code",
   "execution_count": null,
   "metadata": {
    "id": "WfJzkiEnqcgQ"
   },
   "outputs": [],
   "source": [
    "from sklearn import datasets\n",
    "import numpy as np\n",
    "import pandas as pd\n",
    "from sklearn.model_selection import train_test_split\n",
    "from sklearn.preprocessing import MinMaxScaler\n",
    "from keras.models import Sequential\n",
    "from keras.layers import Dense\n",
    "from sklearn.preprocessing import LabelBinarizer\n",
    "from keras.wrappers.scikit_learn import KerasClassifier\n",
    "from sklearn.model_selection import KFold\n",
    "from sklearn.model_selection import cross_val_score"
   ]
  },
  {
   "cell_type": "code",
   "execution_count": null,
   "metadata": {
    "id": "uKot1zgwqcgQ"
   },
   "outputs": [],
   "source": [
    "encoder = LabelBinarizer()\n",
    "seed = 42\n",
    "\n",
    "iris = datasets.load_iris()\n",
    "iris_data_df = pd.DataFrame(data=iris.data, columns=iris.feature_names,\n",
    "                       dtype=np.float32)\n",
    "target = encoder.fit_transform(iris.target)\n",
    "iris_target_df = pd.DataFrame(data=target, columns=iris.target_names)"
   ]
  },
  {
   "cell_type": "code",
   "execution_count": null,
   "metadata": {
    "id": "60VcoQNvqcgQ"
   },
   "outputs": [],
   "source": [
    "X_train,X_test,y_train,y_test = train_test_split(iris_data_df,\n",
    "                                                 iris_target_df,\n",
    "                                                 test_size=0.30,\n",
    "                                                 random_state=seed)"
   ]
  },
  {
   "cell_type": "code",
   "execution_count": null,
   "metadata": {
    "id": "OF-TwD7fqcgQ"
   },
   "outputs": [],
   "source": [
    "scaler = MinMaxScaler(feature_range=(0,1))\n",
    "\n",
    "X_train = pd.DataFrame(scaler.fit_transform(X_train),\n",
    "                               columns=X_train.columns,\n",
    "                               index=X_train.index)\n",
    "X_test = pd.DataFrame(scaler.transform(X_test),\n",
    "                           columns=X_test.columns,\n",
    "                           index=X_test.index)"
   ]
  },
  {
   "cell_type": "code",
   "execution_count": null,
   "metadata": {
    "id": "ed1KsLmqqcgQ"
   },
   "outputs": [],
   "source": [
    "def model():\n",
    "    \"\"\"build the Keras model callback\"\"\"\n",
    "    model = Sequential()\n",
    "    model.add(Dense(8, input_dim=4, activation='tanh', name='layer_1'))\n",
    "    model.add(Dense(10, activation='tanh', name='layer_2'))\n",
    "    model.add(Dense(10, activation='tanh', name='layer_3'))\n",
    "    model.add(Dense(3, activation='softmax', name='output_layer'))\n",
    "\n",
    "    model.compile(loss=\"categorical_crossentropy\",\n",
    "                  optimizer=\"adam\",\n",
    "                  metrics=['accuracy'])\n",
    "    return model"
   ]
  },
  {
   "cell_type": "code",
   "execution_count": null,
   "metadata": {
    "id": "-qocdPDTqcgR"
   },
   "outputs": [],
   "source": [
    "estimator = KerasClassifier(\n",
    "        build_fn=model,\n",
    "        epochs=200, batch_size=20,\n",
    "        verbose=2)"
   ]
  },
  {
   "cell_type": "code",
   "execution_count": null,
   "metadata": {
    "id": "9xZIxVCzqcgR"
   },
   "outputs": [],
   "source": [
    "kfold = KFold(n_splits=5, shuffle=True, random_state=seed)\n",
    "results = cross_val_score(estimator, X_train, y_train, cv=kfold)\n",
    "print(\"Model Performance: mean: %.2f%% std: (%.2f%%)\" % (results.mean()*100, results.std()*100))"
   ]
  },
  {
   "cell_type": "code",
   "execution_count": null,
   "metadata": {
    "id": "vMMm-zTzqcgR"
   },
   "outputs": [],
   "source": [
    "from sklearn import datasets\n",
    "import numpy as np\n",
    "import pandas as pd\n",
    "from sklearn.model_selection import train_test_split\n",
    "from sklearn.preprocessing import MinMaxScaler\n",
    "from keras.models import Sequential\n",
    "from keras.layers import Dense\n",
    "from sklearn.preprocessing import LabelBinarizer\n",
    "from keras.wrappers.scikit_learn import KerasClassifier\n",
    "from sklearn.model_selection import KFold\n",
    "from sklearn.model_selection import cross_val_score\n",
    "\n",
    "encoder = LabelBinarizer()\n",
    "seed = 42\n",
    "\n",
    "iris = datasets.load_iris()\n",
    "iris_data_df = pd.DataFrame(data=iris.data, columns=iris.feature_names,\n",
    "                       dtype=np.float32)\n",
    "target = encoder.fit_transform(iris.target)\n",
    "iris_target_df = pd.DataFrame(data=target, columns=iris.target_names)\n",
    "\n",
    "X_train,X_test,y_train,y_test = train_test_split(iris_data_df,\n",
    "                                                 iris_target_df,\n",
    "                                                 test_size=0.30,\n",
    "                                                 random_state=seed)\n",
    "\n",
    "scaler = MinMaxScaler(feature_range=(0,1))\n",
    "\n",
    "X_train = pd.DataFrame(scaler.fit_transform(X_train),\n",
    "                               columns=X_train.columns,\n",
    "                               index=X_train.index)\n",
    "X_test = pd.DataFrame(scaler.transform(X_test),\n",
    "                           columns=X_test.columns,\n",
    "                           index=X_test.index)\n",
    "\n",
    "def model():\n",
    "    \"\"\"build the Keras model callback\"\"\"\n",
    "    model = Sequential()\n",
    "    model.add(Dense(8, input_dim=4, activation='tanh', name='layer_1'))\n",
    "    model.add(Dense(10, activation='tanh', name='layer_2'))\n",
    "    model.add(Dense(10, activation='tanh', name='layer_3'))\n",
    "    model.add(Dense(3, activation='softmax', name='output_layer'))\n",
    "\n",
    "    model.compile(loss=\"categorical_crossentropy\",\n",
    "                  optimizer=\"adam\",\n",
    "                  metrics=['accuracy'])\n",
    "    return model\n",
    "\n",
    "estimator = KerasClassifier(\n",
    "        build_fn=model,\n",
    "        epochs=200, batch_size=20,\n",
    "        verbose=2)\n",
    "kfold = KFold(n_splits=5, shuffle=True, random_state=seed)\n",
    "results = cross_val_score(estimator, X_train, y_train, cv=kfold)\n",
    "print(\"Model Performance: mean: %.2f%% std: (%.2f%%)\" % (results.mean()*100, results.std()*100))"
   ]
  },
  {
   "cell_type": "code",
   "execution_count": null,
   "metadata": {
    "id": "iiU6LUeZqcgR"
   },
   "outputs": [],
   "source": [
    "model = model()\n",
    "model.fit(\n",
    "       X_train,\n",
    "       y_train,\n",
    "       epochs=200,\n",
    "       shuffle=True, # shuffle data randomly.\n",
    "       #NNs perform best on randomly shuffled data\n",
    "       verbose=2 # this will tell keras to print more detailed info\n",
    "       # during trainnig to know what is going on\n",
    "       )"
   ]
  },
  {
   "cell_type": "code",
   "execution_count": null,
   "metadata": {
    "id": "fsnn9ZloqcgR"
   },
   "outputs": [],
   "source": [
    "#run the test dataset\n",
    "test_error_rate = model.evaluate(X_test, y_test, verbose=0)\n",
    "print(\n",
    "      \"{} : {:.2f}%\".format(model.metrics_names[1],\n",
    "              test_error_rate[1]*100))\n",
    "print(\n",
    "      \"{} : {:.2f}%\".format(model.metrics_names[0],\n",
    "              test_error_rate[0]*100))"
   ]
  },
  {
   "cell_type": "code",
   "execution_count": null,
   "metadata": {
    "id": "auUSLw5GqcgR"
   },
   "outputs": [],
   "source": [
    "\n",
    "rpred = np.argmax(model.predict(r_eye),axis=-1)\n",
    "lpred = np.argmax(model.predict(l_eye),axis=-1)\n",
    "\n",
    "predicted_targets = model.predict_classes(X_test)\n",
    "true_targets = encoder.inverse_transform(y_test.values)\n",
    "\n",
    "def performance_tracker(actual, expected):\n",
    "    flowers = {0:'setosa', 1:'versicolor', 2:'virginica'}\n",
    "    print(\"Flowers in test set: Setosa={} Versicolor={} Virginica={}\".format(\n",
    "            y_test.setosa.sum(), y_test.versicolor.sum(),\n",
    "            y_test.virginica.sum()))\n",
    "    for act,exp in zip(actual, expected):\n",
    "        if act != exp:\n",
    "            print(\"ERROR: {} predicted as {}\".format(flowers[exp],\n",
    "                  flowers[act]))\n",
    "\n",
    "performance_tracker(predicted_targets, true_targets)"
   ]
  }
 ],
 "metadata": {
  "colab": {
   "provenance": []
  },
  "kernelspec": {
   "display_name": "Python 3",
   "language": "python",
   "name": "python3"
  },
  "language_info": {
   "codemirror_mode": {
    "name": "ipython",
    "version": 3
   },
   "file_extension": ".py",
   "mimetype": "text/x-python",
   "name": "python",
   "nbconvert_exporter": "python",
   "pygments_lexer": "ipython3",
   "version": "3.10.12"
  }
 },
 "nbformat": 4,
 "nbformat_minor": 1
}

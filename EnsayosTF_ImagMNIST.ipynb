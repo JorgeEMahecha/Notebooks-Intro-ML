{
 "cells": [
  {
   "cell_type": "code",
   "execution_count": 0,
   "metadata": {
    "colab": {},
    "colab_type": "code",
    "id": "v2lP-fjvYaSK"
   },
   "outputs": [],
   "source": [
    "import tensorflow as tf"
   ]
  },
  {
   "cell_type": "code",
   "execution_count": 0,
   "metadata": {
    "colab": {},
    "colab_type": "code",
    "id": "8roh0qVrYd59"
   },
   "outputs": [],
   "source": [
    "mnist=tf.keras.datasets.mnist"
   ]
  },
  {
   "cell_type": "code",
   "execution_count": 14,
   "metadata": {
    "colab": {
     "base_uri": "https://localhost:8080/",
     "height": 53
    },
    "colab_type": "code",
    "executionInfo": {
     "elapsed": 908,
     "status": "ok",
     "timestamp": 1567787165110,
     "user": {
      "displayName": "JORGE EDUARDO MAHECHA GOMEZ",
      "photoUrl": "",
      "userId": "15729042124199064930"
     },
     "user_tz": 300
    },
    "id": "yolOQB3lYkPx",
    "outputId": "fbb48ff7-df9e-4c48-d2c6-539f72a0d8a9"
   },
   "outputs": [
    {
     "name": "stdout",
     "output_type": "stream",
     "text": [
      "Downloading data from https://storage.googleapis.com/tensorflow/tf-keras-datasets/mnist.npz\n",
      "11493376/11490434 [==============================] - 0s 0us/step\n"
     ]
    }
   ],
   "source": [
    "(training_images, training_labels), (test_images, test_labels) = mnist.load_data()"
   ]
  },
  {
   "cell_type": "code",
   "execution_count": 0,
   "metadata": {
    "colab": {},
    "colab_type": "code",
    "id": "K-tF84J0Y8-G"
   },
   "outputs": [],
   "source": [
    "import matplotlib.pyplot as plt"
   ]
  },
  {
   "cell_type": "code",
   "execution_count": 19,
   "metadata": {
    "colab": {
     "base_uri": "https://localhost:8080/",
     "height": 287
    },
    "colab_type": "code",
    "executionInfo": {
     "elapsed": 647,
     "status": "ok",
     "timestamp": 1567787263674,
     "user": {
      "displayName": "JORGE EDUARDO MAHECHA GOMEZ",
      "photoUrl": "",
      "userId": "15729042124199064930"
     },
     "user_tz": 300
    },
    "id": "pBSud_UvZgcr",
    "outputId": "61a5f4c2-eb6c-46b6-822f-7ed7b570df43"
   },
   "outputs": [
    {
     "data": {
      "text/plain": [
       "<matplotlib.image.AxesImage at 0x7fb2df1c1748>"
      ]
     },
     "execution_count": 19,
     "metadata": {
      "tags": []
     },
     "output_type": "execute_result"
    },
    {
     "data": {
      "image/png": "[encoded data removed]",
      "text/plain": [
       "<Figure size 432x288 with 1 Axes>"
      ]
     },
     "metadata": {
      "tags": []
     },
     "output_type": "display_data"
    }
   ],
   "source": [
    "plt.imshow(training_images[0])"
   ]
  },
  {
   "cell_type": "code",
   "execution_count": 20,
   "metadata": {
    "colab": {
     "base_uri": "https://localhost:8080/",
     "height": 35
    },
    "colab_type": "code",
    "executionInfo": {
     "elapsed": 411,
     "status": "ok",
     "timestamp": 1567787297419,
     "user": {
      "displayName": "JORGE EDUARDO MAHECHA GOMEZ",
      "photoUrl": "",
      "userId": "15729042124199064930"
     },
     "user_tz": 300
    },
    "id": "00MM6lO-ZrmO",
    "outputId": "c43395ed-936a-4631-de5c-158c86d0f680"
   },
   "outputs": [
    {
     "name": "stdout",
     "output_type": "stream",
     "text": [
      "5\n"
     ]
    }
   ],
   "source": [
    "print(training_labels[0])"
   ]
  },
  {
   "cell_type": "code",
   "execution_count": 21,
   "metadata": {
    "colab": {
     "base_uri": "https://localhost:8080/",
     "height": 35
    },
    "colab_type": "code",
    "executionInfo": {
     "elapsed": 403,
     "status": "ok",
     "timestamp": 1567787312207,
     "user": {
      "displayName": "JORGE EDUARDO MAHECHA GOMEZ",
      "photoUrl": "",
      "userId": "15729042124199064930"
     },
     "user_tz": 300
    },
    "id": "YBV7asQ2Z6hh",
    "outputId": "33c7c87f-43a1-4152-e61f-fd6a06622bb1"
   },
   "outputs": [
    {
     "data": {
      "text/plain": [
       "(10000,)"
      ]
     },
     "execution_count": 21,
     "metadata": {
      "tags": []
     },
     "output_type": "execute_result"
    }
   ],
   "source": [
    "test_labels.shape"
   ]
  },
  {
   "cell_type": "code",
   "execution_count": 0,
   "metadata": {
    "colab": {},
    "colab_type": "code",
    "id": "d_bdOLGkaCW9"
   },
   "outputs": [],
   "source": [
    "x = training_images[0].flatten()"
   ]
  },
  {
   "cell_type": "code",
   "execution_count": 0,
   "metadata": {
    "colab": {},
    "colab_type": "code",
    "id": "trcv0egFaQBk"
   },
   "outputs": [],
   "source": [
    "training_images =  training_images/255.0\n",
    "test_images =  test_images/255.0"
   ]
  },
  {
   "cell_type": "code",
   "execution_count": 0,
   "metadata": {
    "colab": {},
    "colab_type": "code",
    "id": "U4Cu6re9amQH"
   },
   "outputs": [],
   "source": [
    "# Capa de entrada de 120\n",
    "model=tf.keras.Sequential([tf.keras.layers.Flatten(),tf.keras.layers.Dense(120,activation=tf.nn.sigmoid),tf.keras.layers.Dense(10,activation=tf.nn.softmax)])"
   ]
  },
  {
   "cell_type": "code",
   "execution_count": 0,
   "metadata": {
    "colab": {},
    "colab_type": "code",
    "id": "PcRBtYtocTnR"
   },
   "outputs": [],
   "source": [
    "model.compile(optimizer = tf.train.AdamOptimizer(), loss = 'sparse_categorical_crossentropy', metric=['accuracy'])"
   ]
  },
  {
   "cell_type": "code",
   "execution_count": 41,
   "metadata": {
    "colab": {
     "base_uri": "https://localhost:8080/",
     "height": 214
    },
    "colab_type": "code",
    "executionInfo": {
     "elapsed": 20612,
     "status": "ok",
     "timestamp": 1567788344800,
     "user": {
      "displayName": "JORGE EDUARDO MAHECHA GOMEZ",
      "photoUrl": "",
      "userId": "15729042124199064930"
     },
     "user_tz": 300
    },
    "id": "pJTU4gKKdDQM",
    "outputId": "d5f4cde0-18fe-4986-b057-30d3f605cbea"
   },
   "outputs": [
    {
     "name": "stdout",
     "output_type": "stream",
     "text": [
      "Epoch 1/5\n",
      "60000/60000 [==============================] - 4s 72us/sample - loss: 2.3084\n",
      "Epoch 2/5\n",
      "60000/60000 [==============================] - 4s 67us/sample - loss: 2.3057\n",
      "Epoch 3/5\n",
      "60000/60000 [==============================] - 4s 65us/sample - loss: 2.3028\n",
      "Epoch 4/5\n",
      "60000/60000 [==============================] - 4s 63us/sample - loss: 2.2995\n",
      "Epoch 5/5\n",
      "60000/60000 [==============================] - 4s 64us/sample - loss: 2.2953\n"
     ]
    },
    {
     "data": {
      "text/plain": [
       "<tensorflow.python.keras.callbacks.History at 0x7fb2dc0a9358>"
      ]
     },
     "execution_count": 41,
     "metadata": {
      "tags": []
     },
     "output_type": "execute_result"
    }
   ],
   "source": [
    "model.fit(training_images, training_labels, epochs = 5)"
   ]
  },
  {
   "cell_type": "code",
   "execution_count": 0,
   "metadata": {
    "colab": {},
    "colab_type": "code",
    "id": "irGpCgvYdwHF"
   },
   "outputs": [],
   "source": [
    "pred=model.predict(test_images)"
   ]
  },
  {
   "cell_type": "code",
   "execution_count": 49,
   "metadata": {
    "colab": {
     "base_uri": "https://localhost:8080/",
     "height": 53
    },
    "colab_type": "code",
    "executionInfo": {
     "elapsed": 620,
     "status": "ok",
     "timestamp": 1567788673639,
     "user": {
      "displayName": "JORGE EDUARDO MAHECHA GOMEZ",
      "photoUrl": "",
      "userId": "15729042124199064930"
     },
     "user_tz": 300
    },
    "id": "sPa9fwBXfBDz",
    "outputId": "0cf61d56-1bd0-477c-fd3a-0638b90ed4f7"
   },
   "outputs": [
    {
     "name": "stdout",
     "output_type": "stream",
     "text": [
      "10000/10000 [==============================] - 0s 31us/sample - loss: 1.2491\n"
     ]
    },
    {
     "data": {
      "text/plain": [
       "1.249147929573059"
      ]
     },
     "execution_count": 49,
     "metadata": {
      "tags": []
     },
     "output_type": "execute_result"
    }
   ],
   "source": [
    "model.evaluate(test_images, test_labels)"
   ]
  },
  {
   "cell_type": "code",
   "execution_count": 50,
   "metadata": {
    "colab": {
     "base_uri": "https://localhost:8080/",
     "height": 35
    },
    "colab_type": "code",
    "executionInfo": {
     "elapsed": 466,
     "status": "ok",
     "timestamp": 1567788682701,
     "user": {
      "displayName": "JORGE EDUARDO MAHECHA GOMEZ",
      "photoUrl": "",
      "userId": "15729042124199064930"
     },
     "user_tz": 300
    },
    "id": "rxwr06eueTip",
    "outputId": "0e70064d-a39c-4194-c818-06052435310a"
   },
   "outputs": [
    {
     "data": {
      "text/plain": [
       "1"
      ]
     },
     "execution_count": 50,
     "metadata": {
      "tags": []
     },
     "output_type": "execute_result"
    }
   ],
   "source": [
    "test_labels[137]"
   ]
  },
  {
   "cell_type": "code",
   "execution_count": 56,
   "metadata": {
    "colab": {
     "base_uri": "https://localhost:8080/",
     "height": 71
    },
    "colab_type": "code",
    "executionInfo": {
     "elapsed": 462,
     "status": "ok",
     "timestamp": 1567788882336,
     "user": {
      "displayName": "JORGE EDUARDO MAHECHA GOMEZ",
      "photoUrl": "",
      "userId": "15729042124199064930"
     },
     "user_tz": 300
    },
    "id": "sutrdFqHeCz7",
    "outputId": "232c1867-8700-459d-e7de-18d491edd374"
   },
   "outputs": [
    {
     "data": {
      "text/plain": [
       "array([0.02115184, 0.43458295, 0.13672726, 0.09086426, 0.01405525,\n",
       "       0.03892627, 0.03428686, 0.01430151, 0.17808796, 0.0370158 ],\n",
       "      dtype=float32)"
      ]
     },
     "execution_count": 56,
     "metadata": {
      "tags": []
     },
     "output_type": "execute_result"
    }
   ],
   "source": [
    "pred[137]"
   ]
  },
  {
   "cell_type": "code",
   "execution_count": 0,
   "metadata": {
    "colab": {},
    "colab_type": "code",
    "id": "VdSD7HkOfgUo"
   },
   "outputs": [],
   "source": [
    "import numpy as np\n",
    "pred=model.predict(test_images)"
   ]
  },
  {
   "cell_type": "code",
   "execution_count": 59,
   "metadata": {
    "colab": {
     "base_uri": "https://localhost:8080/",
     "height": 35
    },
    "colab_type": "code",
    "executionInfo": {
     "elapsed": 457,
     "status": "ok",
     "timestamp": 1567789093471,
     "user": {
      "displayName": "JORGE EDUARDO MAHECHA GOMEZ",
      "photoUrl": "",
      "userId": "15729042124199064930"
     },
     "user_tz": 300
    },
    "id": "4ImwK2oQgfH2",
    "outputId": "00703cd0-f2c9-4289-80f7-769df82ace0f"
   },
   "outputs": [
    {
     "data": {
      "text/plain": [
       "1"
      ]
     },
     "execution_count": 59,
     "metadata": {
      "tags": []
     },
     "output_type": "execute_result"
    }
   ],
   "source": [
    "np.round(pred[137],2)\n",
    "np.argmax(pred[137])"
   ]
  },
  {
   "cell_type": "code",
   "execution_count": 0,
   "metadata": {
    "colab": {},
    "colab_type": "code",
    "id": "Yjqmkn6-gpPk"
   },
   "outputs": [],
   "source": []
  }
 ],
 "metadata": {
  "colab": {
   "collapsed_sections": [],
   "name": "EnsayosTF_NicolasQuesada.ipynb",
   "provenance": [],
   "version": "0.3.2"
  },
  "kernelspec": {
   "display_name": "Python 3",
   "language": "python",
   "name": "python3"
  },
  "language_info": {
   "codemirror_mode": {
    "name": "ipython",
    "version": 3
   },
   "file_extension": ".py",
   "mimetype": "text/x-python",
   "name": "python",
   "nbconvert_exporter": "python",
   "pygments_lexer": "ipython3",
   "version": "3.10.12"
  }
 },
 "nbformat": 4,
 "nbformat_minor": 1
}
